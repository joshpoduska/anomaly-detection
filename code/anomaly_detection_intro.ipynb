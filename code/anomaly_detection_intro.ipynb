{
 "cells": [
  {
   "cell_type": "markdown",
   "metadata": {},
   "source": [
    "#### Anomaly Detection Example based on this introductory blog post\n",
    "https://blog.floydhub.com/introduction-to-anomaly-detection-in-python/"
   ]
  },
  {
   "cell_type": "code",
   "execution_count": 1,
   "metadata": {},
   "outputs": [],
   "source": [
    "# Import the necessary packages\n",
    "import pandas as pd\n",
    "import numpy as np\n",
    "import matplotlib.pyplot as plt\n",
    "\n",
    "# Comment out the following line if you are using Jupyter Notebook\n",
    "# %matplotlib inline\n",
    "# Use a predefined style set\n",
    "plt.style.use('ggplot')"
   ]
  },
  {
   "cell_type": "code",
   "execution_count": 3,
   "metadata": {},
   "outputs": [
    {
     "name": "stdout",
     "output_type": "stream",
     "text": [
      "Collecting faker\n",
      "\u001b[?25l  Downloading https://files.pythonhosted.org/packages/bf/5a/44c04abc182990d716eb7703502aa851433ea66569bd72765ef1abdaea9c/Faker-2.0.2-py2.py3-none-any.whl (879kB)\n",
      "\u001b[K     |████████████████████████████████| 880kB 4.6MB/s \n",
      "\u001b[?25hRequirement already satisfied: six>=1.10 in /usr/local/anaconda/lib/python3.6/site-packages (from faker) (1.12.0)\n",
      "Collecting text-unidecode==1.3 (from faker)\n",
      "\u001b[?25l  Downloading https://files.pythonhosted.org/packages/a6/a5/c0b6468d3824fe3fde30dbb5e1f687b291608f9473681bbf7dabbf5a87d7/text_unidecode-1.3-py2.py3-none-any.whl (78kB)\n",
      "\u001b[K     |████████████████████████████████| 81kB 42.3MB/s \n",
      "\u001b[?25hRequirement already satisfied: python-dateutil>=2.4 in /usr/local/anaconda/lib/python3.6/site-packages (from faker) (2.8.0)\n",
      "Installing collected packages: text-unidecode, faker\n",
      "Successfully installed faker-2.0.2 text-unidecode-1.3\n",
      "\u001b[33mWARNING: You are using pip version 19.1.1, however version 19.2.3 is available.\n",
      "You should consider upgrading via the 'pip install --upgrade pip' command.\u001b[0m\n"
     ]
    }
   ],
   "source": [
    "!pip install faker"
   ]
  },
  {
   "cell_type": "code",
   "execution_count": 4,
   "metadata": {},
   "outputs": [
    {
     "name": "stdout",
     "output_type": "stream",
     "text": [
      "              Person  Salary (in USD)\n",
      "0        Jason Brown             1175\n",
      "1        Jacob Stein             2220\n",
      "2         Cody Brown             1537\n",
      "3      Larry Morales             1502\n",
      "4  Jessica Hendricks             1211\n"
     ]
    }
   ],
   "source": [
    "# Import Faker\n",
    "from faker import Faker\n",
    "fake = Faker()\n",
    "\n",
    "# To ensure the results are reproducible\n",
    "fake.seed(4321)\n",
    "\n",
    "names_list = []\n",
    "\n",
    "fake = Faker()\n",
    "for _ in range(100):\n",
    "  names_list.append(fake.name())\n",
    "\n",
    "# To ensure the results are reproducible\n",
    "np.random.seed(7)\n",
    "\n",
    "salaries = []\n",
    "for _ in range(100):\n",
    "    salary = np.random.randint(1000,2500)\n",
    "    salaries.append(salary)\n",
    "\n",
    "# Create pandas DataFrame\n",
    "salary_df = pd.DataFrame(\n",
    "    {'Person': names_list,\n",
    "     'Salary (in USD)': salaries\n",
    "    })\n",
    "\n",
    "# Print a subsection of the DataFrame\n",
    "print(salary_df.head())"
   ]
  },
  {
   "cell_type": "markdown",
   "metadata": {},
   "source": [
    "#### manually change the salary entries of two individuals"
   ]
  },
  {
   "cell_type": "code",
   "execution_count": 5,
   "metadata": {},
   "outputs": [
    {
     "name": "stdout",
     "output_type": "stream",
     "text": [
      "Person             Miss Amanda Harris MD\n",
      "Salary (in USD)                       23\n",
      "Name: 16, dtype: object\n",
      "Person             Joyce Bishop\n",
      "Salary (in USD)              17\n",
      "Name: 65, dtype: object\n"
     ]
    }
   ],
   "source": [
    "salary_df.at[16, 'Salary (in USD)'] = 23\n",
    "salary_df.at[65, 'Salary (in USD)'] = 17\n",
    "\n",
    "# Verify if the salaries were changed\n",
    "print(salary_df.loc[16])\n",
    "print(salary_df.loc[65])"
   ]
  },
  {
   "cell_type": "markdown",
   "metadata": {},
   "source": [
    "#### Graphical anomaly detection"
   ]
  },
  {
   "cell_type": "code",
   "execution_count": 6,
   "metadata": {},
   "outputs": [
    {
     "data": {
      "image/png": "[encoded data removed]",
      "text/plain": [
       "<Figure size 432x288 with 1 Axes>"
      ]
     },
     "metadata": {
      "needs_background": "light"
     },
     "output_type": "display_data"
    }
   ],
   "source": [
    "# Generate a Boxplot\n",
    "salary_df['Salary (in USD)'].plot(kind='box')\n",
    "plt.show()"
   ]
  },
  {
   "cell_type": "code",
   "execution_count": 7,
   "metadata": {},
   "outputs": [
    {
     "data": {
      "image/png": "[encoded data removed]",
      "text/plain": [
       "<Figure size 432x288 with 1 Axes>"
      ]
     },
     "metadata": {
      "needs_background": "light"
     },
     "output_type": "display_data"
    }
   ],
   "source": [
    "# Generate a Histogram plot\n",
    "salary_df['Salary (in USD)'].plot(kind='hist')\n",
    "plt.show()"
   ]
  },
  {
   "cell_type": "markdown",
   "metadata": {},
   "source": [
    "#### Now with some stats"
   ]
  },
  {
   "cell_type": "code",
   "execution_count": 8,
   "metadata": {},
   "outputs": [
    {
     "name": "stdout",
     "output_type": "stream",
     "text": [
      "Minimum salary 17\n",
      "Maximum salary 2498\n"
     ]
    }
   ],
   "source": [
    "# Minimum and maximum salaries\n",
    "print('Minimum salary ' + str(salary_df['Salary (in USD)'].min()))\n",
    "print('Maximum salary ' + str(salary_df['Salary (in USD)'].max()))"
   ]
  },
  {
   "cell_type": "markdown",
   "metadata": {},
   "source": [
    "#### Clustering based approach "
   ]
  },
  {
   "cell_type": "code",
   "execution_count": 13,
   "metadata": {},
   "outputs": [
    {
     "data": {
      "image/png": "[encoded data removed]",
      "text/plain": [
       "<Figure size 432x288 with 1 Axes>"
      ]
     },
     "metadata": {
      "needs_background": "light"
     },
     "output_type": "display_data"
    }
   ],
   "source": [
    "# Convert the salary values to a numpy array\n",
    "salary_raw = salary_df['Salary (in USD)'].values\n",
    "\n",
    "# For compatibility with the SciPy implementation\n",
    "salary_raw = salary_raw.reshape(-1, 1)\n",
    "salary_raw = salary_raw.astype('float64')\n",
    "\n",
    "# Import kmeans from SciPy\n",
    "from scipy import cluster\n",
    "from scipy.cluster.vq import kmeans\n",
    "    \n",
    "# Specify the data and the number of clusters to kmeans()\n",
    "centroids, avg_distance = kmeans(salary_raw, 4)\n",
    "\n",
    "# Get the groups (clusters) and distances\n",
    "groups, cdist = cluster.vq.vq(salary_raw, centroids)\n",
    "\n",
    "plt.scatter(salary_raw, np.arange(0,100), c=groups)\n",
    "plt.xlabel('Salaries in (USD)')\n",
    "plt.ylabel('Indices')\n",
    "plt.show()"
   ]
  },
  {
   "cell_type": "markdown",
   "metadata": {},
   "source": [
    "#### classification approach"
   ]
  },
  {
   "cell_type": "code",
   "execution_count": 15,
   "metadata": {},
   "outputs": [
    {
     "name": "stdout",
     "output_type": "stream",
     "text": [
      "Person             Miss Amanda Harris MD\n",
      "Salary (in USD)                       23\n",
      "class                                  1\n",
      "Name: 16, dtype: object\n"
     ]
    }
   ],
   "source": [
    "# First assign all the instances to \n",
    "salary_df['class'] = 0\n",
    "\n",
    "# Manually edit the labels for the anomalies\n",
    "salary_df.at[16, 'class'] = 1\n",
    "salary_df.at[65, 'class'] = 1\n",
    "\n",
    "# Veirfy \n",
    "print(salary_df.loc[16])"
   ]
  },
  {
   "cell_type": "code",
   "execution_count": 16,
   "metadata": {},
   "outputs": [
    {
     "data": {
      "text/html": [
       "<div>\n",
       "<style scoped>\n",
       "    .dataframe tbody tr th:only-of-type {\n",
       "        vertical-align: middle;\n",
       "    }\n",
       "\n",
       "    .dataframe tbody tr th {\n",
       "        vertical-align: top;\n",
       "    }\n",
       "\n",
       "    .dataframe thead th {\n",
       "        text-align: right;\n",
       "    }\n",
       "</style>\n",
       "<table border=\"1\" class=\"dataframe\">\n",
       "  <thead>\n",
       "    <tr style=\"text-align: right;\">\n",
       "      <th></th>\n",
       "      <th>Person</th>\n",
       "      <th>Salary (in USD)</th>\n",
       "      <th>class</th>\n",
       "    </tr>\n",
       "  </thead>\n",
       "  <tbody>\n",
       "    <tr>\n",
       "      <th>0</th>\n",
       "      <td>Jason Brown</td>\n",
       "      <td>1175</td>\n",
       "      <td>0</td>\n",
       "    </tr>\n",
       "    <tr>\n",
       "      <th>1</th>\n",
       "      <td>Jacob Stein</td>\n",
       "      <td>2220</td>\n",
       "      <td>0</td>\n",
       "    </tr>\n",
       "    <tr>\n",
       "      <th>2</th>\n",
       "      <td>Cody Brown</td>\n",
       "      <td>1537</td>\n",
       "      <td>0</td>\n",
       "    </tr>\n",
       "    <tr>\n",
       "      <th>3</th>\n",
       "      <td>Larry Morales</td>\n",
       "      <td>1502</td>\n",
       "      <td>0</td>\n",
       "    </tr>\n",
       "    <tr>\n",
       "      <th>4</th>\n",
       "      <td>Jessica Hendricks</td>\n",
       "      <td>1211</td>\n",
       "      <td>0</td>\n",
       "    </tr>\n",
       "  </tbody>\n",
       "</table>\n",
       "</div>"
      ],
      "text/plain": [
       "              Person  Salary (in USD)  class\n",
       "0        Jason Brown             1175      0\n",
       "1        Jacob Stein             2220      0\n",
       "2         Cody Brown             1537      0\n",
       "3      Larry Morales             1502      0\n",
       "4  Jessica Hendricks             1211      0"
      ]
     },
     "execution_count": 16,
     "metadata": {},
     "output_type": "execute_result"
    }
   ],
   "source": [
    "salary_df.head()"
   ]
  },
  {
   "cell_type": "code",
   "execution_count": 19,
   "metadata": {},
   "outputs": [
    {
     "name": "stdout",
     "output_type": "stream",
     "text": [
      "Collecting pyod\n",
      "\u001b[?25l  Downloading https://files.pythonhosted.org/packages/70/c3/02949ae2c7d5b9f917654009d2c41e3e55f4bd23d2ac0557a09e12d97e2c/pyod-0.7.4.tar.gz (84kB)\n",
      "\u001b[K     |████████████████████████████████| 92kB 6.1MB/s \n",
      "\u001b[?25hRequirement already satisfied: joblib in /usr/local/anaconda/lib/python3.6/site-packages (from pyod) (0.13.2)\n",
      "Requirement already satisfied: matplotlib in /usr/local/anaconda/lib/python3.6/site-packages (from pyod) (3.0.3)\n",
      "Requirement already satisfied: numpy>=1.13 in /usr/local/anaconda/lib/python3.6/site-packages (from pyod) (1.16.2)\n",
      "Requirement already satisfied: numba>=0.35 in /usr/local/anaconda/lib/python3.6/site-packages (from pyod) (0.43.1)\n",
      "Requirement already satisfied: scipy>=0.19.1 in /usr/local/anaconda/lib/python3.6/site-packages (from pyod) (1.2.1)\n",
      "Requirement already satisfied: scikit_learn>=0.19.1 in /usr/local/anaconda/lib/python3.6/site-packages (from pyod) (0.20.3)\n",
      "Requirement already satisfied: six in /usr/local/anaconda/lib/python3.6/site-packages (from pyod) (1.12.0)\n",
      "Requirement already satisfied: cycler>=0.10 in /usr/local/anaconda/lib/python3.6/site-packages (from matplotlib->pyod) (0.10.0)\n",
      "Requirement already satisfied: kiwisolver>=1.0.1 in /usr/local/anaconda/lib/python3.6/site-packages (from matplotlib->pyod) (1.0.1)\n",
      "Requirement already satisfied: pyparsing!=2.0.4,!=2.1.2,!=2.1.6,>=2.0.1 in /usr/local/anaconda/lib/python3.6/site-packages (from matplotlib->pyod) (2.3.1)\n",
      "Requirement already satisfied: python-dateutil>=2.1 in /usr/local/anaconda/lib/python3.6/site-packages (from matplotlib->pyod) (2.8.0)\n",
      "Requirement already satisfied: llvmlite>=0.28.0dev0 in /usr/local/anaconda/lib/python3.6/site-packages (from numba>=0.35->pyod) (0.28.0)\n",
      "Requirement already satisfied: setuptools in /usr/local/anaconda/lib/python3.6/site-packages (from kiwisolver>=1.0.1->matplotlib->pyod) (41.0.1)\n",
      "Building wheels for collected packages: pyod\n",
      "  Building wheel for pyod (setup.py) ... \u001b[?25ldone\n",
      "\u001b[?25h  Stored in directory: /home/ubuntu/.cache/pip/wheels/30/2f/4a/90c7bf3403325384b1c2ef5eb50d65d7467b8dd1b64a92ab82\n",
      "Successfully built pyod\n",
      "Installing collected packages: pyod\n",
      "Successfully installed pyod-0.7.4\n",
      "\u001b[33mWARNING: You are using pip version 19.1.1, however version 19.2.3 is available.\n",
      "You should consider upgrading via the 'pip install --upgrade pip' command.\u001b[0m\n"
     ]
    }
   ],
   "source": [
    "!pip install pyod"
   ]
  },
  {
   "cell_type": "code",
   "execution_count": 20,
   "metadata": {},
   "outputs": [
    {
     "name": "stdout",
     "output_type": "stream",
     "text": [
      "KNN ROC:1.0, precision @ rank n:1.0\n"
     ]
    }
   ],
   "source": [
    "# Importing KNN module from PyOD\n",
    "import pyod\n",
    "from pyod.models.knn import KNN\n",
    "\n",
    "# Segregate the salary values and the class labels \n",
    "X = salary_df['Salary (in USD)'].values.reshape(-1,1)\n",
    "y = salary_df['class'].values\n",
    "\n",
    "# Train kNN detector\n",
    "clf = KNN(contamination=0.02, n_neighbors=5)\n",
    "clf.fit(X)\n",
    "\n",
    "# Get the prediction labels of the training data\n",
    "y_train_pred = clf.labels_ \n",
    "    \n",
    "# Outlier scores\n",
    "y_train_scores = clf.decision_scores_\n",
    "\n",
    "# Import the utility function for model evaluation\n",
    "from pyod.utils import evaluate_print\n",
    "\n",
    "# Evaluate on the training data\n",
    "evaluate_print('KNN', y, y_train_scores)"
   ]
  },
  {
   "cell_type": "code",
   "execution_count": 21,
   "metadata": {},
   "outputs": [
    {
     "data": {
      "text/plain": [
       "array([1])"
      ]
     },
     "execution_count": 21,
     "metadata": {},
     "output_type": "execute_result"
    }
   ],
   "source": [
    "# A salary of $37 (an anomaly right?)\n",
    "X_test = np.array([[37.]])\n",
    "\n",
    "# Check what the model predicts on the given test data point\n",
    "clf.predict(X_test)"
   ]
  },
  {
   "cell_type": "code",
   "execution_count": 22,
   "metadata": {},
   "outputs": [
    {
     "data": {
      "text/plain": [
       "array([0])"
      ]
     },
     "execution_count": 22,
     "metadata": {},
     "output_type": "execute_result"
    }
   ],
   "source": [
    "# A salary of $1256\n",
    "X_test_abnormal = np.array([[1256.]])\n",
    "\n",
    "# Predict\n",
    "clf.predict(X_test_abnormal)"
   ]
  },
  {
   "cell_type": "code",
   "execution_count": null,
   "metadata": {},
   "outputs": [],
   "source": []
  }
 ],
 "metadata": {
  "kernelspec": {
   "display_name": "Python 3",
   "language": "python",
   "name": "python3"
  },
  "language_info": {
   "codemirror_mode": {
    "name": "ipython",
    "version": 3
   },
   "file_extension": ".py",
   "mimetype": "text/x-python",
   "name": "python",
   "nbconvert_exporter": "python",
   "pygments_lexer": "ipython3",
   "version": "3.6.8"
  }
 },
 "nbformat": 4,
 "nbformat_minor": 2
}
